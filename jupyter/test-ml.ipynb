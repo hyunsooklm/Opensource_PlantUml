{
 "cells": [
  {
   "cell_type": "code",
   "execution_count": null,
   "metadata": {},
   "outputs": [],
   "source": [
    "import tensorflow as tf\n",
    "import numpy as np\n",
    "import matplotlib as mpl\n",
    "import datetime"
   ]
  },
  {
   "cell_type": "code",
   "execution_count": null,
   "metadata": {},
   "outputs": [],
   "source": [
    "# Tensorboard\n",
    "log_dir = \"logs\\\\fit\\\\\" + datetime.datetime.now().strftime(\"%Y%m%d-%H%M%S\")\n",
    "tensorboard_callback = tf.keras.callbacks.TensorBoard(log_dir=log_dir, histogram_freq=1)\n",
    "\n",
    "# XOR Example (Deep and Wide NN)\n",
    "x_data = np.array([[0, 0], [0, 1], [1, 0], [1, 1]], dtype=np.float32)\n",
    "y_data = np.array([[0], [1], [1], [0]], dtype=np.float32)\n",
    "\n",
    "model = tf.keras.Sequential([\n",
    "    tf.keras.layers.Dense(units=10, input_dim=2, activation='relu'),\n",
    "    tf.keras.layers.Dense(units=10, activation='relu'),\n",
    "    tf.keras.layers.Dense(units=10, activation='relu'),\n",
    "    tf.keras.layers.Dense(units=10, activation='relu'),\n",
    "    tf.keras.layers.Dense(units=10, activation='relu'),\n",
    "    tf.keras.layers.Dense(units=10, activation='relu'),\n",
    "    tf.keras.layers.Dense(units=10, activation='relu'),\n",
    "    tf.keras.layers.Dense(units=10, activation='relu'),\n",
    "    tf.keras.layers.Dense(units=1, activation='sigmoid')\n",
    "])\n",
    "\n",
    "# SGD not working very well due to vanishing gradient problem, switched to Adam for now\n",
    "# or you may use activation='relu', study chapter 10 to know more on vanishing gradient problem.\n",
    "model.compile(loss='binary_crossentropy', optimizer=tf.optimizers.SGD(lr=0.1), metrics=['accuracy'])\n",
    "model.summary()\n",
    "\n",
    "history = model.fit(x_data, y_data, epochs=1000, callbacks=[tensorboard_callback])\n",
    "\n",
    "predictions = model.predict(x_data)\n",
    "print('Prediction: \\n', predictions)\n",
    "\n",
    "score = model.evaluate(x_data, y_data)\n",
    "print('Accuracy: ', score[1])"
   ]
  },
  {
   "cell_type": "code",
   "execution_count": null,
   "metadata": {},
   "outputs": [],
   "source": []
  }
 ],
 "metadata": {
  "kernelspec": {
   "display_name": "Python 3",
   "language": "python",
   "name": "python3"
  },
  "language_info": {
   "codemirror_mode": {
    "name": "ipython",
    "version": 3
   },
   "file_extension": ".py",
   "mimetype": "text/x-python",
   "name": "python",
   "nbconvert_exporter": "python",
   "pygments_lexer": "ipython3",
   "version": "3.7.7"
  }
 },
 "nbformat": 4,
 "nbformat_minor": 4
}
